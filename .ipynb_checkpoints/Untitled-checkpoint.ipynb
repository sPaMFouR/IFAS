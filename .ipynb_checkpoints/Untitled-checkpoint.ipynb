{
 "cells": [
  {
   "cell_type": "code",
   "execution_count": 5,
   "metadata": {},
   "outputs": [
    {
     "name": "stdout",
     "output_type": "stream",
     "text": [
      "113\n"
     ]
    }
   ],
   "source": [
    "import os\n",
    "import re\n",
    "import glob\n",
    "import pandas as pd\n",
    "\n",
    "def group_similar_files(text_list, common_text, exceptions=''):\n",
    "    \"\"\"\n",
    "    Groups similar files based on the string \"common_text\". Writes the similar files\n",
    "    onto the list 'text_list' (only if this string is not empty) and appends the similar\n",
    "    files to a list 'python_list'.\n",
    "    Args:\n",
    "        text_list   : Name of the output text file with names grouped based on the 'common_text'\n",
    "        common_text : String containing partial name of the files to be grouped\n",
    "        exceptions  : String containing the partial name of the files that need to be excluded\n",
    "    Returns:\n",
    "        list_files  : Python list containing the names of the grouped files\n",
    "    \"\"\"\n",
    "    list_files = glob.glob(common_text)\n",
    "    if exceptions != '':\n",
    "        list_exception = exceptions.split(',')\n",
    "        for file_name in glob.glob(common_text):\n",
    "            for text in list_exception:\n",
    "                test = re.search(str(text), file_name)\n",
    "                if test:\n",
    "                    try:\n",
    "                        list_files.remove(file_name)\n",
    "                    except ValueError:\n",
    "                        pass\n",
    "\n",
    "    list_files.sort()\n",
    "    if len(text_list) != 0:\n",
    "        with open(str(text_list), \"w\") as f:\n",
    "            for index in range(0, len(list_files)):\n",
    "                f.write(str(list_files[index]) + \"\\n\")\n",
    "\n",
    "    return list_files\n",
    "\n",
    "DIR_CFLIB = \"/home/avinash/Dropbox/PyCharm/IFAS/CFLIB/\"\n",
    "list_cflib = group_similar_files(\"\", os.path.join(DIR_CFLIB, \"*.txt\"), exceptions='NewData,TempData')\n",
    "\n",
    "list_files = []\n",
    "for index, file_name in enumerate(list_cflib):\n",
    "    data_df = pd.read_csv(file_name, names=['Wave', 'Flux'], header=None, sep='\\s+', comment='#', engine='python')\n",
    "    if data_df.loc[data_df['Wave'] == 7400.2, 'Flux'].item() < 1e-3:\n",
    "        list_files.append(file_name)\n",
    "\n",
    "print len(list_files)\n"
   ]
  },
  {
   "cell_type": "code",
   "execution_count": 6,
   "metadata": {},
   "outputs": [
    {
     "name": "stdout",
     "output_type": "stream",
     "text": [
      "7\n"
     ]
    }
   ],
   "source": [
    "# for file_name in list_files:\n",
    "#     os.remove(file_name)\n",
    "#     os.remove(DIR_CFLIB + 'NewData_' + file_name.split('/')[-1])\n",
    "#     os.remove(DIR_CFLIB + 'TempData_' + file_name.split('/')[-1])\n",
    "\n",
    "\n",
    "list_files2 = []\n",
    "for index, file_name in enumerate(list_cflib):\n",
    "    data_df = pd.read_csv(file_name, names=['Wave', 'Flux'], header=None, sep='\\s+', comment='#', engine='python')\n",
    "    if data_df.loc[data_df['Wave'] == 3600.2, 'Flux'].item() < 1e-3:\n",
    "        list_files2.append(file_name)\n",
    "\n",
    "print len(list_files2)"
   ]
  },
  {
   "cell_type": "code",
   "execution_count": null,
   "metadata": {
    "collapsed": true
   },
   "outputs": [],
   "source": [
    "list_files3 = []\n",
    "for index, file_name in enumerate(list_cflib):\n",
    "    data_df = pd.read_csv(file_name, names=['Wave', 'Flux'], header=None, sep='\\s+', comment='#', engine='python')\n",
    "    if data_df.loc[data_df['Wave'] == 4600.2, 'Flux'].item() < 1e-3:\n",
    "        list_files3.append(file_name)\n",
    "        \n",
    "list_files4 = []\n",
    "for index, file_name in enumerate(list_cflib):\n",
    "    data_df = pd.read_csv(file_name, names=['Wave', 'Flux'], header=None, sep='\\s+', comment='#', engine='python')\n",
    "    if data_df.loc[data_df['Wave'] == 6500.2, 'Flux'].item() < 1e-3:\n",
    "        list_files4.append(file_name)\n",
    "        \n",
    "print len(list_files3)\n",
    "print len(list_files4)"
   ]
  },
  {
   "cell_type": "code",
   "execution_count": null,
   "metadata": {
    "collapsed": true
   },
   "outputs": [],
   "source": []
  }
 ],
 "metadata": {
  "kernelspec": {
   "display_name": "Python 2",
   "language": "python",
   "name": "python2"
  },
  "language_info": {
   "codemirror_mode": {
    "name": "ipython",
    "version": 2
   },
   "file_extension": ".py",
   "mimetype": "text/x-python",
   "name": "python",
   "nbconvert_exporter": "python",
   "pygments_lexer": "ipython2",
   "version": "2.7.13"
  }
 },
 "nbformat": 4,
 "nbformat_minor": 2
}
